{
 "cells": [
  {
   "cell_type": "markdown",
   "id": "65ac925d",
   "metadata": {},
   "source": [
    "##### If you dont have selenium or webdriver_manager you are going to have to uncomment below and run the pip installs"
   ]
  },
  {
   "cell_type": "code",
   "execution_count": 1,
   "id": "aa799138",
   "metadata": {},
   "outputs": [],
   "source": [
    "#pip install ipyauth\n",
    "#pip install selenium\n",
    "#pip install webdriver-manager"
   ]
  },
  {
   "cell_type": "code",
   "execution_count": 2,
   "id": "a19cfde6",
   "metadata": {},
   "outputs": [],
   "source": [
    "import pandas as pd\n",
    "import numpy as np\n",
    "import configparser\n",
    "import selenium\n",
    "from selenium import webdriver\n",
    "from webdriver_manager.chrome import ChromeDriverManager"
   ]
  },
  {
   "cell_type": "markdown",
   "id": "27e7373d",
   "metadata": {},
   "source": [
    "##### Store the api key separately. I don't know why, it seemed like a good idea at the time."
   ]
  },
  {
   "cell_type": "code",
   "execution_count": 3,
   "id": "f00f9dd9",
   "metadata": {},
   "outputs": [],
   "source": [
    "def get_api_key():\n",
    "    config = configparser.ConfigParser()\n",
    "    config.read('config.ini')\n",
    "    return config['nyt_api']['key']"
   ]
  },
  {
   "cell_type": "code",
   "execution_count": 4,
   "id": "e957975d",
   "metadata": {},
   "outputs": [
    {
     "name": "stderr",
     "output_type": "stream",
     "text": [
      "[WDM] - \n",
      "\n",
      "[WDM] - ====== WebDriver manager ======\n",
      "[WDM] - Current google-chrome version is 95.0.4638\n",
      "[WDM] - Get LATEST driver version for 95.0.4638\n",
      "[WDM] - Driver [C:\\Users\\Alex\\.wdm\\drivers\\chromedriver\\win32\\95.0.4638.54\\chromedriver.exe] found in cache\n",
      "<ipython-input-4-348526eb5466>:1: DeprecationWarning: executable_path has been deprecated, please pass in a Service object\n",
      "  driver = webdriver.Chrome(executable_path=ChromeDriverManager().install())\n"
     ]
    }
   ],
   "source": [
    "driver = webdriver.Chrome(executable_path=ChromeDriverManager().install())"
   ]
  },
  {
   "cell_type": "markdown",
   "id": "13e5d8a9",
   "metadata": {},
   "source": [
    "#### TODO: write program that downloads it locally, does not run if local copy exists!"
   ]
  },
  {
   "cell_type": "code",
   "execution_count": 5,
   "id": "9739da0e",
   "metadata": {},
   "outputs": [],
   "source": [
    "\n",
    "search_year=str('2020')\n",
    "search_month=str('5')\n",
    "api = get_api_key()\n",
    "search_str=\"https://api.nytimes.com/svc/archive/v1/{}/{}.json?api-key={}\".format(search_year,search_month,api)\n",
    "driver.get(search_str)"
   ]
  }
 ],
 "metadata": {
  "kernelspec": {
   "display_name": "Python 3",
   "language": "python",
   "name": "python3"
  },
  "language_info": {
   "codemirror_mode": {
    "name": "ipython",
    "version": 3
   },
   "file_extension": ".py",
   "mimetype": "text/x-python",
   "name": "python",
   "nbconvert_exporter": "python",
   "pygments_lexer": "ipython3",
   "version": "3.8.8"
  }
 },
 "nbformat": 4,
 "nbformat_minor": 5
}
